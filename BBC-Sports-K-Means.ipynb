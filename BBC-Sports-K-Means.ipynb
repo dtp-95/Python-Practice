{
 "cells": [
  {
   "cell_type": "markdown",
   "metadata": {
    "deletable": false,
    "editable": false,
    "nbgrader": {
     "checksum": "86cd654a48050e722e80c10d00684fa2",
     "grade": false,
     "grade_id": "cell-6aed0027f3a276a8",
     "locked": true,
     "schema_version": 1,
     "solution": false
    }
   },
   "source": [
    "# Homework 4 Step 1: K-Means Clustering\n",
    "\n",
    "Here, we will explore the k-means clustering algorithm discussed in class, using the BBC Sports dataset. As with all unsupervised learning problems, our goal is to discover and describe some hidden structure in unlabeled data. Let us make the following assumption:  \n",
    "\n",
    "Assumption: In the given data, the samples may be cleanly separated into k distinct groups over a set of features.\n",
    "\n",
    "The issue therein is – while this assumption tells us that there are k distinct 'classes' of samples, we know nothing about their content/properties.  If we could find samples that were representative of each of the k groups, then we could label the rest of the samples based on how similar they are to each of the representative or prototypical samples.  Armed with this intuition, the goal of the k-means clustering algorithm will be to find these representative samples (prototypes) through an iterative process.\n",
    "\n",
    "We can define such prototypes as either a:\n",
    "centroid – the average of similar points wrt continuous features (e.g. petal lengths)\n",
    "medioid – the most representative/most frequently occurring point wrt categorical features (e.g. discrete color labels, blue vs. red vs. green.)"
   ]
  },
  {
   "cell_type": "markdown",
   "metadata": {
    "deletable": false,
    "editable": false,
    "nbgrader": {
     "checksum": "e708c2897aa55e407f266ab4e4fe70d5",
     "grade": false,
     "grade_id": "cell-b711958939fdb75e",
     "locked": true,
     "schema_version": 1,
     "solution": false
    }
   },
   "source": [
    "## Step 1.1: Download and unzip the dataset\n",
    "\n",
    "For this assignment you’ll use a dataset which clusters text articles from BBC Sports, by topic (athletics, cricket, football, rugby, tennis).  Download the preprocessed dataset from:\n",
    "\n",
    "http://mlg.ucd.ie/datasets/bbc.html\n",
    "\n",
    "(1) Download `bbcsport.zip` to your directory and (2) unzip bbcsport.zip into the four files contained therein. Leave these four files in your hw4 directory, i.e. do not put them in a data folder. For a completely optional additional challenge, do this within your notebook, using the `ZipFile` and `urlrequest.urlretrieve` packages. You will get all 0 points for Step 1.1, regardless of how you downloaded the data.\n",
    "\n",
    "Look at the dataset's web page above to understand the role of each file.\n",
    "\n",
    "Part of the task here is just for you to make sense of the data, and practice being a data scientist.  A few remarks that might help you:\n",
    "\n",
    "* “Classes” are the five different topics, thus the class file may give a hint as to this (similarly with the docs file, which might be friendlier to read by a human).  Each document ID is ultimately mapped to a class.\n",
    "* The mtx file represents a sparse matrix with counts of how often each word appeared in a document.  You may want to look at importing `scipy.io` and using `scipy.io.mmread` to read matrices, and the matrix `todense()` method to go from sparse to dense matrices.\n",
    "* The ordering of the terms in the terms file implicitly gives you their word IDs."
   ]
  },
  {
   "cell_type": "code",
   "execution_count": 1,
   "metadata": {},
   "outputs": [],
   "source": [
    "# Popular imports, you may modify this if you need to add things\n",
    "\n",
    "from urllib import request\n",
    "import zipfile\n",
    "import matplotlib\n",
    "import pandas as pd\n",
    "import sklearn\n",
    "import matplotlib.pyplot as plt\n",
    "import numpy as np\n",
    "import scipy.io\n",
    "from sklearn import preprocessing\n",
    "import nltk\n",
    "\n",
    "# For clustering\n",
    "from sklearn.cluster import KMeans\n",
    "from sklearn.metrics import silhouette_score\n",
    "from sklearn.decomposition import PCA\n",
    "from scipy.spatial.distance import cdist\n",
    "from statistics import mode"
   ]
  },
  {
   "cell_type": "code",
   "execution_count": 2,
   "metadata": {
    "deletable": false,
    "nbgrader": {
     "checksum": "bfd620eb2ced6e769b61ae0c583fe3bd",
     "grade": false,
     "grade_id": "cell-645c14b234728b0c",
     "locked": false,
     "schema_version": 1,
     "solution": true
    }
   },
   "outputs": [],
   "source": [
    "# TODO: download http://mlg.ucd.ie/files/datasets/bbcsport.zip and unzip\n",
    "#\n",
    "# Look up the Python docs for ZipFile and urlrequest.urlretrieve\n",
    "# (remember to use Python 3.x)\n",
    "#\n",
    "# Worth 0 points\n",
    "\n",
    "# YOUR CODE HERE\n",
    "# raise NotImplementedError()"
   ]
  },
  {
   "cell_type": "code",
   "execution_count": 3,
   "metadata": {
    "deletable": false,
    "editable": false,
    "nbgrader": {
     "checksum": "1b42c5aa4e41a8b61608ec0fd5330c4c",
     "grade": true,
     "grade_id": "cell-9f8e4e881e6a2cf8",
     "locked": true,
     "points": 0,
     "schema_version": 1,
     "solution": false
    }
   },
   "outputs": [],
   "source": [
    "# Test that files exist\n",
    "import os.path\n",
    "\n",
    "if not os.path.isfile('bbcsport.classes'):\n",
    "    raise ValueError(\"Don't appear to have successfully downloaded files\")\n",
    "    \n",
    "if not os.path.isfile('bbcsport.mtx'):\n",
    "    raise ValueError(\"Don't appear to have successfully downloaded files\")"
   ]
  },
  {
   "cell_type": "code",
   "execution_count": 4,
   "metadata": {},
   "outputs": [
    {
     "name": "stdout",
     "output_type": "stream",
     "text": [
      "(4613, 737)\n"
     ]
    }
   ],
   "source": [
    "# mtx file should parse\n",
    "#the sparse matrix currently only stores the non-zero elements by using coordinate-wise method\n",
    "bbc_matrix = scipy.io.mmread('bbcsport.mtx')\n",
    "\n",
    "#transform this into dense matrix\n",
    "bbc_matrix = bbc_matrix.todense()\n",
    "print(bbc_matrix.shape)\n",
    "\n"
   ]
  },
  {
   "cell_type": "code",
   "execution_count": 5,
   "metadata": {
    "deletable": false,
    "editable": false,
    "nbgrader": {
     "checksum": "938f104b94b5d3eadff727188afd0b6b",
     "grade": true,
     "grade_id": "cell-dafa925f5f40399f",
     "locked": true,
     "points": 0,
     "schema_version": 1,
     "solution": false
    }
   },
   "outputs": [],
   "source": [
    "# mtx file should parse\n"
   ]
  },
  {
   "cell_type": "markdown",
   "metadata": {
    "deletable": false,
    "editable": false,
    "nbgrader": {
     "checksum": "9defa269dedc04017c0b9fada0fa4c10",
     "grade": false,
     "grade_id": "cell-c0e6271e0d74fd56",
     "locked": true,
     "schema_version": 1,
     "solution": false
    }
   },
   "source": [
    "## Step 1.2 - Data Prep\n",
    "\n",
    "Load the data into a dataframe using any of the files you think are relevant. Columns should be terms and rows should be articles.\n",
    "\n",
    "You should ultimately create a `bbc_df` dataframe in which each row is an article, and each column represents the number of times a given word (term) appears.  The resulting dataset should have shape (737, 4613).  \n",
    "\n",
    "Also: read the class labels and turn them into a Pandas `Series` called `document_class` with column name `class_label`. This will be used at the end of the assignment."
   ]
  },
  {
   "cell_type": "code",
   "execution_count": 6,
   "metadata": {
    "deletable": false,
    "nbgrader": {
     "checksum": "ecac05b7386d3fb24737dbab33b81354",
     "grade": false,
     "grade_id": "cell-9872b0e6fec12c73",
     "locked": false,
     "schema_version": 1,
     "solution": true
    }
   },
   "outputs": [],
   "source": [
    "# TODO: load the bbc_df and document_class\n",
    "# 10 points\n",
    "try:\n",
    "\n",
    "    #create a df matrix by transposing\n",
    "    bbc_df = pd.DataFrame(bbc_matrix, index = range(1,bbc_matrix.shape[0]+1), columns = range(1,bbc_matrix.shape[1]+1)).transpose()\n",
    "    \n",
    "    classes_df = pd.read_csv('bbcsport.classes', header = None, skiprows = 4, sep = ' ')\n",
    "    classes_df.columns = ['obs','class_label']\n",
    "    \n",
    "    #check if there is any NaN values, and none is there\n",
    "    nan_rows = classes_df[classes_df['obs'].isnull()]\n",
    "    \n",
    "    \n",
    "    #convert into pandas series\n",
    "    document_class = classes_df.loc[:,'class_label']\n",
    "    \n",
    "\n",
    "    \n",
    "# YOUR CODE HERE\n",
    "except:\n",
    "    raise NotImplementedError()"
   ]
  },
  {
   "cell_type": "code",
   "execution_count": 7,
   "metadata": {},
   "outputs": [
    {
     "data": {
      "text/plain": [
       "0      0\n",
       "1      0\n",
       "2      0\n",
       "3      0\n",
       "4      0\n",
       "5      0\n",
       "6      0\n",
       "7      0\n",
       "8      0\n",
       "9      0\n",
       "10     0\n",
       "11     0\n",
       "12     0\n",
       "13     0\n",
       "14     0\n",
       "15     0\n",
       "16     0\n",
       "17     0\n",
       "18     0\n",
       "19     0\n",
       "20     0\n",
       "21     0\n",
       "22     0\n",
       "23     0\n",
       "24     0\n",
       "25     0\n",
       "26     0\n",
       "27     0\n",
       "28     0\n",
       "29     0\n",
       "      ..\n",
       "707    4\n",
       "708    4\n",
       "709    4\n",
       "710    4\n",
       "711    4\n",
       "712    4\n",
       "713    4\n",
       "714    4\n",
       "715    4\n",
       "716    4\n",
       "717    4\n",
       "718    4\n",
       "719    4\n",
       "720    4\n",
       "721    4\n",
       "722    4\n",
       "723    4\n",
       "724    4\n",
       "725    4\n",
       "726    4\n",
       "727    4\n",
       "728    4\n",
       "729    4\n",
       "730    4\n",
       "731    4\n",
       "732    4\n",
       "733    4\n",
       "734    4\n",
       "735    4\n",
       "736    4\n",
       "Name: class_label, Length: 737, dtype: int64"
      ]
     },
     "execution_count": 7,
     "metadata": {},
     "output_type": "execute_result"
    }
   ],
   "source": [
    "document_class"
   ]
  },
  {
   "cell_type": "code",
   "execution_count": 8,
   "metadata": {
    "deletable": false,
    "editable": false,
    "nbgrader": {
     "checksum": "261f53ff3c8cc2f44d94e581f38c02ff",
     "grade": true,
     "grade_id": "cell-06cb9e35076237ed",
     "locked": true,
     "points": 5,
     "schema_version": 1,
     "solution": false
    },
    "scrolled": true
   },
   "outputs": [
    {
     "data": {
      "text/plain": [
       "(737, 4613)"
      ]
     },
     "execution_count": 8,
     "metadata": {},
     "output_type": "execute_result"
    }
   ],
   "source": [
    "bbc_df.shape\n"
   ]
  },
  {
   "cell_type": "code",
   "execution_count": 9,
   "metadata": {},
   "outputs": [
    {
     "name": "stdout",
     "output_type": "stream",
     "text": [
      "     1     2     3     4     5     6     7     8     9     10    ...   4604  \\\n",
      "1     7.0   1.0   3.0   2.0   4.0   2.0   1.0   1.0   2.0   2.0  ...    0.0   \n",
      "2     0.0   0.0   1.0   0.0   0.0   0.0   0.0   0.0   0.0   0.0  ...    0.0   \n",
      "3     0.0   0.0   0.0   0.0   1.0   0.0   0.0   0.0   0.0   2.0  ...    0.0   \n",
      "4     0.0   0.0   0.0   0.0   0.0   0.0   0.0   0.0   0.0   0.0  ...    0.0   \n",
      "5     0.0   0.0   0.0   0.0   0.0   0.0   0.0   0.0   0.0   2.0  ...    0.0   \n",
      "6     0.0   0.0   0.0   0.0   0.0   0.0   0.0   0.0   0.0   0.0  ...    0.0   \n",
      "7     0.0   0.0   0.0   0.0   0.0   0.0   0.0   0.0   0.0   0.0  ...    0.0   \n",
      "8     0.0   0.0   0.0   0.0   0.0   1.0   0.0   0.0   1.0   0.0  ...    0.0   \n",
      "9     0.0   0.0   1.0   0.0   1.0   1.0   1.0   0.0   0.0   3.0  ...    0.0   \n",
      "10    0.0   0.0   0.0   0.0   1.0   1.0   0.0   0.0   0.0   2.0  ...    0.0   \n",
      "11    0.0   0.0   0.0   0.0   0.0   1.0   0.0   0.0   0.0   0.0  ...    0.0   \n",
      "12    0.0   0.0   0.0   0.0   2.0   1.0   0.0   0.0   1.0   1.0  ...    0.0   \n",
      "13    0.0   0.0   0.0   0.0   0.0   0.0   0.0   0.0   0.0   0.0  ...    0.0   \n",
      "14    0.0   0.0   1.0   2.0   0.0   0.0   0.0   0.0   1.0   4.0  ...    0.0   \n",
      "15    0.0   0.0   0.0   2.0   0.0   0.0   0.0   0.0   0.0   0.0  ...    0.0   \n",
      "16    0.0   0.0   0.0   0.0   1.0   0.0   0.0   0.0   2.0   0.0  ...    0.0   \n",
      "17    0.0   0.0   0.0   0.0   0.0   0.0   0.0   0.0   0.0   0.0  ...    0.0   \n",
      "18    0.0   0.0   0.0   0.0   0.0   0.0   0.0   0.0   0.0   1.0  ...    0.0   \n",
      "19    0.0   0.0   0.0   0.0   0.0   0.0   0.0   0.0   0.0   0.0  ...    0.0   \n",
      "20    0.0   0.0   0.0   0.0   2.0   1.0   0.0   0.0   1.0   1.0  ...    0.0   \n",
      "21    0.0   0.0   0.0   0.0   0.0   0.0   0.0   0.0   0.0   0.0  ...    0.0   \n",
      "22    0.0   0.0   1.0   0.0   0.0   0.0   0.0   0.0   0.0   2.0  ...    0.0   \n",
      "23    0.0   0.0   0.0   0.0   0.0   0.0   0.0   0.0   1.0   0.0  ...    0.0   \n",
      "24    0.0   0.0   0.0   0.0   0.0   0.0   0.0   0.0   0.0   0.0  ...    0.0   \n",
      "25    0.0   0.0   1.0   0.0   0.0   0.0   0.0   0.0   0.0   1.0  ...    0.0   \n",
      "26    0.0   0.0   1.0   0.0   0.0   0.0   0.0   0.0   0.0   0.0  ...    0.0   \n",
      "27    0.0   0.0   0.0   0.0   0.0   2.0   0.0   0.0   0.0   1.0  ...    0.0   \n",
      "28    0.0   0.0   0.0   0.0   2.0   1.0   0.0   0.0   0.0   1.0  ...    0.0   \n",
      "29    0.0   0.0   0.0   0.0   1.0   1.0   0.0   0.0   0.0   0.0  ...    0.0   \n",
      "30    0.0   0.0   0.0   1.0   2.0   2.0   0.0   0.0   1.0   0.0  ...    0.0   \n",
      "..    ...   ...   ...   ...   ...   ...   ...   ...   ...   ...  ...    ...   \n",
      "708   0.0   0.0  10.0   0.0   0.0   0.0   0.0   0.0   0.0   5.0  ...    0.0   \n",
      "709   0.0   0.0   0.0   0.0   0.0   0.0   0.0   0.0   0.0   1.0  ...    2.0   \n",
      "710   0.0   0.0   1.0   0.0   0.0   1.0   0.0   0.0   0.0   2.0  ...    0.0   \n",
      "711   0.0   0.0   0.0   0.0   0.0   0.0   0.0   0.0   0.0   0.0  ...    0.0   \n",
      "712   0.0   0.0   2.0   2.0   0.0   1.0   0.0   0.0   0.0   6.0  ...    0.0   \n",
      "713   0.0   0.0   0.0   0.0   0.0   0.0   0.0   0.0   0.0   0.0  ...    0.0   \n",
      "714   0.0   0.0   1.0   0.0   0.0   0.0   0.0   0.0   0.0   4.0  ...    0.0   \n",
      "715   0.0   0.0   0.0   0.0   0.0   0.0   0.0   0.0   0.0   1.0  ...    0.0   \n",
      "716   0.0   0.0   0.0   1.0   0.0   0.0   0.0   0.0   0.0   0.0  ...    0.0   \n",
      "717   0.0   0.0   1.0   0.0   0.0   3.0   0.0   0.0   0.0   1.0  ...    0.0   \n",
      "718   0.0   0.0   3.0   0.0   0.0   0.0   0.0   0.0   0.0   1.0  ...    0.0   \n",
      "719   0.0   0.0   0.0   0.0   0.0   0.0   0.0   0.0   0.0   0.0  ...    0.0   \n",
      "720   0.0   0.0   0.0   0.0   0.0   0.0   0.0   0.0   3.0   4.0  ...    0.0   \n",
      "721   0.0   0.0   3.0   0.0   0.0   0.0   0.0   0.0   0.0   1.0  ...    0.0   \n",
      "722   0.0   0.0   1.0   0.0   0.0   0.0   0.0   0.0   0.0   3.0  ...    0.0   \n",
      "723   0.0   0.0   1.0   0.0   0.0   1.0   0.0   0.0   0.0   1.0  ...    0.0   \n",
      "724   0.0   0.0   0.0   0.0   0.0   0.0   0.0   0.0   0.0   2.0  ...    0.0   \n",
      "725   0.0   0.0   1.0   0.0   0.0   0.0   0.0   0.0   0.0   1.0  ...    0.0   \n",
      "726   0.0   0.0   0.0   0.0   0.0   0.0   0.0   0.0   0.0   0.0  ...    0.0   \n",
      "727   0.0   0.0   5.0   0.0   0.0   0.0   0.0   0.0   0.0   4.0  ...    0.0   \n",
      "728   0.0   0.0   1.0   0.0   0.0   0.0   0.0   0.0   0.0   1.0  ...    0.0   \n",
      "729   0.0   0.0   2.0   0.0   0.0   0.0   0.0   0.0   0.0   0.0  ...    0.0   \n",
      "730   0.0   0.0   1.0   0.0   0.0   0.0   0.0   0.0   0.0   3.0  ...    0.0   \n",
      "731   0.0   0.0   1.0   0.0   0.0   0.0   0.0   0.0   0.0   2.0  ...    0.0   \n",
      "732   0.0   0.0   0.0   0.0   0.0   1.0   0.0   0.0   0.0   1.0  ...    0.0   \n",
      "733   0.0   0.0   4.0   0.0   0.0   1.0   0.0   0.0   0.0   0.0  ...    0.0   \n",
      "734   0.0   0.0   1.0   0.0   0.0   0.0   0.0   0.0   0.0   3.0  ...    0.0   \n",
      "735   0.0   0.0   2.0   0.0   0.0   0.0   0.0   0.0   0.0   1.0  ...    0.0   \n",
      "736   0.0   0.0   0.0   0.0   0.0   1.0   0.0   0.0   1.0   0.0  ...    0.0   \n",
      "737   0.0   0.0   4.0   0.0   0.0   0.0   0.0   0.0   0.0   2.0  ...    0.0   \n",
      "\n",
      "     4605  4606  4607  4608  4609  4610  4611  4612  4613  \n",
      "1     0.0   0.0   0.0   0.0   0.0   0.0   0.0   0.0   0.0  \n",
      "2     0.0   0.0   0.0   0.0   0.0   0.0   0.0   0.0   0.0  \n",
      "3     0.0   0.0   0.0   0.0   0.0   0.0   0.0   0.0   0.0  \n",
      "4     0.0   0.0   0.0   0.0   0.0   0.0   0.0   0.0   0.0  \n",
      "5     0.0   0.0   0.0   0.0   0.0   0.0   0.0   0.0   0.0  \n",
      "6     0.0   0.0   0.0   0.0   0.0   0.0   0.0   0.0   0.0  \n",
      "7     0.0   0.0   0.0   0.0   0.0   0.0   0.0   0.0   0.0  \n",
      "8     0.0   0.0   0.0   0.0   0.0   0.0   0.0   0.0   0.0  \n",
      "9     0.0   0.0   0.0   0.0   0.0   0.0   0.0   0.0   0.0  \n",
      "10    0.0   0.0   0.0   0.0   0.0   0.0   0.0   0.0   0.0  \n",
      "11    0.0   0.0   0.0   0.0   0.0   0.0   0.0   0.0   0.0  \n",
      "12    0.0   0.0   0.0   0.0   0.0   0.0   0.0   0.0   0.0  \n",
      "13    0.0   0.0   0.0   0.0   0.0   0.0   0.0   0.0   0.0  \n",
      "14    0.0   0.0   0.0   0.0   0.0   0.0   0.0   0.0   0.0  \n",
      "15    0.0   0.0   0.0   0.0   0.0   0.0   0.0   0.0   0.0  \n",
      "16    0.0   0.0   0.0   0.0   0.0   0.0   0.0   0.0   0.0  \n",
      "17    0.0   0.0   0.0   0.0   0.0   0.0   0.0   0.0   0.0  \n",
      "18    0.0   0.0   0.0   0.0   0.0   0.0   0.0   0.0   0.0  \n",
      "19    0.0   0.0   0.0   0.0   0.0   0.0   0.0   0.0   0.0  \n",
      "20    0.0   0.0   0.0   0.0   0.0   0.0   0.0   0.0   0.0  \n",
      "21    0.0   0.0   0.0   0.0   0.0   0.0   0.0   0.0   0.0  \n",
      "22    0.0   0.0   0.0   0.0   0.0   0.0   0.0   0.0   0.0  \n",
      "23    0.0   0.0   0.0   0.0   0.0   0.0   0.0   0.0   0.0  \n",
      "24    0.0   0.0   0.0   0.0   0.0   0.0   0.0   0.0   0.0  \n",
      "25    0.0   0.0   0.0   0.0   0.0   0.0   0.0   0.0   0.0  \n",
      "26    0.0   0.0   0.0   0.0   0.0   0.0   0.0   0.0   0.0  \n",
      "27    0.0   0.0   0.0   0.0   0.0   0.0   0.0   0.0   0.0  \n",
      "28    0.0   0.0   0.0   0.0   0.0   0.0   0.0   0.0   0.0  \n",
      "29    0.0   0.0   0.0   0.0   0.0   0.0   0.0   0.0   0.0  \n",
      "30    0.0   0.0   0.0   0.0   0.0   0.0   0.0   0.0   0.0  \n",
      "..    ...   ...   ...   ...   ...   ...   ...   ...   ...  \n",
      "708   0.0   0.0   0.0   0.0   0.0   0.0   0.0   0.0   0.0  \n",
      "709   0.0   0.0   0.0   0.0   0.0   0.0   0.0   0.0   0.0  \n",
      "710   0.0   1.0   0.0   0.0   0.0   0.0   0.0   0.0   0.0  \n",
      "711   0.0   0.0   0.0   0.0   1.0   0.0   0.0   0.0   1.0  \n",
      "712   1.0   0.0   2.0   1.0   0.0   0.0   1.0   1.0   0.0  \n",
      "713   0.0   0.0   0.0   0.0   0.0   0.0   0.0   0.0   0.0  \n",
      "714   0.0   0.0   0.0   0.0   0.0   0.0   0.0   0.0   0.0  \n",
      "715   0.0   0.0   0.0   0.0   0.0   0.0   0.0   0.0   0.0  \n",
      "716   0.0   0.0   0.0   0.0   0.0   0.0   0.0   0.0   0.0  \n",
      "717   0.0   0.0   0.0   0.0   0.0   0.0   0.0   0.0   0.0  \n",
      "718   0.0   0.0   0.0   0.0   0.0   0.0   0.0   0.0   0.0  \n",
      "719   0.0   0.0   0.0   0.0   0.0   0.0   0.0   0.0   0.0  \n",
      "720   0.0   0.0   0.0   0.0   0.0   0.0   0.0   0.0   0.0  \n",
      "721   0.0   0.0   0.0   0.0   0.0   0.0   0.0   0.0   0.0  \n",
      "722   0.0   0.0   0.0   0.0   0.0   0.0   0.0   0.0   0.0  \n",
      "723   0.0   0.0   0.0   0.0   0.0   0.0   1.0   1.0   0.0  \n",
      "724   0.0   0.0   0.0   0.0   0.0   0.0   0.0   0.0   0.0  \n",
      "725   0.0   0.0   0.0   0.0   0.0   0.0   0.0   0.0   0.0  \n",
      "726   0.0   0.0   0.0   0.0   0.0   0.0   0.0   0.0   0.0  \n",
      "727   0.0   0.0   0.0   0.0   0.0   0.0   0.0   0.0   0.0  \n",
      "728   0.0   0.0   0.0   0.0   0.0   0.0   0.0   0.0   0.0  \n",
      "729   0.0   0.0   0.0   0.0   0.0   0.0   0.0   0.0   0.0  \n",
      "730   0.0   0.0   0.0   0.0   0.0   0.0   0.0   0.0   0.0  \n",
      "731   0.0   0.0   0.0   0.0   0.0   0.0   0.0   0.0   0.0  \n",
      "732   0.0   0.0   0.0   0.0   0.0   0.0   0.0   0.0   0.0  \n",
      "733   0.0   0.0   0.0   0.0   1.0   0.0   0.0   0.0   0.0  \n",
      "734   0.0   0.0   3.0   2.0   0.0   0.0   0.0   0.0   0.0  \n",
      "735   0.0   0.0   0.0   0.0   0.0   0.0   0.0   0.0   0.0  \n",
      "736   0.0   0.0   0.0   0.0   0.0   0.0   0.0   0.0   0.0  \n",
      "737   0.0   0.0   1.0   1.0   0.0   0.0   0.0   0.0   0.0  \n",
      "\n",
      "[737 rows x 4613 columns]\n"
     ]
    }
   ],
   "source": [
    "print(bbc_df)"
   ]
  },
  {
   "cell_type": "code",
   "execution_count": 10,
   "metadata": {
    "deletable": false,
    "editable": false,
    "nbgrader": {
     "checksum": "b254b6c6588a2a797bf08ac32aa62165",
     "grade": true,
     "grade_id": "cell-ead30953243e7749",
     "locked": true,
     "points": 5,
     "schema_version": 1,
     "solution": false
    }
   },
   "outputs": [
    {
     "data": {
      "text/plain": [
       "0      0\n",
       "1      0\n",
       "2      0\n",
       "3      0\n",
       "4      0\n",
       "5      0\n",
       "6      0\n",
       "7      0\n",
       "8      0\n",
       "9      0\n",
       "10     0\n",
       "11     0\n",
       "12     0\n",
       "13     0\n",
       "14     0\n",
       "15     0\n",
       "16     0\n",
       "17     0\n",
       "18     0\n",
       "19     0\n",
       "20     0\n",
       "21     0\n",
       "22     0\n",
       "23     0\n",
       "24     0\n",
       "25     0\n",
       "26     0\n",
       "27     0\n",
       "28     0\n",
       "29     0\n",
       "      ..\n",
       "707    4\n",
       "708    4\n",
       "709    4\n",
       "710    4\n",
       "711    4\n",
       "712    4\n",
       "713    4\n",
       "714    4\n",
       "715    4\n",
       "716    4\n",
       "717    4\n",
       "718    4\n",
       "719    4\n",
       "720    4\n",
       "721    4\n",
       "722    4\n",
       "723    4\n",
       "724    4\n",
       "725    4\n",
       "726    4\n",
       "727    4\n",
       "728    4\n",
       "729    4\n",
       "730    4\n",
       "731    4\n",
       "732    4\n",
       "733    4\n",
       "734    4\n",
       "735    4\n",
       "736    4\n",
       "Name: class_label, Length: 737, dtype: int64"
      ]
     },
     "execution_count": 10,
     "metadata": {},
     "output_type": "execute_result"
    }
   ],
   "source": [
    "document_class\n"
   ]
  },
  {
   "cell_type": "markdown",
   "metadata": {
    "deletable": false,
    "editable": false,
    "nbgrader": {
     "checksum": "de08691a76c2a60e96900dca325284e5",
     "grade": false,
     "grade_id": "cell-b353d35322931284",
     "locked": true,
     "schema_version": 1,
     "solution": false
    }
   },
   "source": [
    "## Step 1.3 - K-Means\n",
    "\n",
    "Now the question is -- how many clusters should we use?  We hinted above that the BBC dataset classified documents into five classes, but can we validate that the data supports one cluster per class?\n",
    "\n",
    "First, turn the `bbc_df` into a matrix which we'll just call `X`."
   ]
  },
  {
   "cell_type": "code",
   "execution_count": 11,
   "metadata": {
    "deletable": false,
    "nbgrader": {
     "checksum": "e7306a959f002c2bb103aa78090ed995",
     "grade": false,
     "grade_id": "cell-18b3537f8bf0bef5",
     "locked": false,
     "schema_version": 1,
     "solution": true
    }
   },
   "outputs": [
    {
     "name": "stdout",
     "output_type": "stream",
     "text": [
      "(737, 4613)\n"
     ]
    }
   ],
   "source": [
    "# TODO: convert the dataframe to a matrix (worth 2 points)\n",
    "try:\n",
    "    X = bbc_df.values\n",
    "    print(X.shape)\n",
    "    \n",
    "    \n",
    "# YOUR CODE HERE\n",
    "except:\n",
    "    raise NotImplementedError()"
   ]
  },
  {
   "cell_type": "code",
   "execution_count": 12,
   "metadata": {},
   "outputs": [
    {
     "name": "stdout",
     "output_type": "stream",
     "text": [
      "[[7. 1. 3. ... 0. 0. 0.]\n",
      " [0. 0. 1. ... 0. 0. 0.]\n",
      " [0. 0. 0. ... 0. 0. 0.]\n",
      " ...\n",
      " [0. 0. 2. ... 0. 0. 0.]\n",
      " [0. 0. 0. ... 0. 0. 0.]\n",
      " [0. 0. 4. ... 0. 0. 0.]]\n"
     ]
    }
   ],
   "source": [
    "print(X)"
   ]
  },
  {
   "cell_type": "code",
   "execution_count": 13,
   "metadata": {
    "deletable": false,
    "editable": false,
    "nbgrader": {
     "checksum": "36dcda5b236c0fd07efde1bd7db94ef8",
     "grade": true,
     "grade_id": "cell-e863b3ef7be56f47",
     "locked": true,
     "points": 2,
     "schema_version": 1,
     "solution": false
    }
   },
   "outputs": [],
   "source": [
    "if X.shape != (737, 4613):\n",
    "    raise ValueError('Expected something different than', X.shape)\n"
   ]
  },
  {
   "cell_type": "markdown",
   "metadata": {
    "deletable": false,
    "editable": false,
    "nbgrader": {
     "checksum": "5f8c4bd5879e0eb81235f61e5f02ef9d",
     "grade": false,
     "grade_id": "cell-190072425bf452d9",
     "locked": true,
     "schema_version": 1,
     "solution": false
    }
   },
   "source": [
    "Recall that in class, we described running K Means and plotting the **distortion** (sum of squared error given Euclidean distance).  From that we can find the \"elbow\" indicating the best tradeoff between number of clusters and distortion.\n",
    "\n",
    "\n",
    "### 1.3.1 Testing Cluster Distortion\n",
    "\n",
    "Define a function called `test_cluster_size` that iterates over possible cluster sizes from 2 to a `max_cluster` (inclusive) value.  The function should takes as input (1) the data as a matrix and (2) `max_cluster`.  It should return a list of scores, **where `max_cluster[i]` is the score for cluster size i**.  You should use `None` for cluster sizes 0 and 1.\n",
    "\n",
    "Internally, you’ll want to use KMeans from `sklearn.cluster` to cluster your data.  As we saw from the slide examples, you can call the `fit` method over the data to generate clusters.  In each call, use random initialization of the centroids, with `max_iter=300`, `random_state=0`, and `n_init=30`.  It uses the term `inertia` to refer to distortion.\n",
    "\n",
    "Also, you'll note from the `sklearn.cluster` documentation on __[KMeans](http://scikit-learn.org/stable/modules/generated/sklearn.cluster.KMeans.html)__:\n",
    "\n",
    "Attributes:\t\n",
    "* cluster_centers_ : array, [n_clusters, n_features]\n",
    " Coordinates of cluster centers\n",
    "\n",
    "* labels_ :\n",
    "Labels of each point\n",
    "\n",
    "* inertia_ : float\n",
    "Sum of squared distances of samples to their closest cluster center.\n",
    "\n",
    "* n_iter_ : int\n",
    "Number of iterations run.\n"
   ]
  },
  {
   "cell_type": "code",
   "execution_count": 14,
   "metadata": {
    "deletable": false,
    "nbgrader": {
     "checksum": "b57ffec16823789503bdd9f41ab9c8d5",
     "grade": false,
     "grade_id": "cell-6f113e9f997a4e41",
     "locked": false,
     "schema_version": 1,
     "solution": true
    }
   },
   "outputs": [],
   "source": [
    "# TODO: write test_cluster_size\n",
    "# Worth 5 points\n",
    "try:\n",
    "    def test_cluster_size(matrix, max_cluster):\n",
    "        distortions = [None, None]\n",
    "\n",
    "        for i in range(2, max_cluster+1):\n",
    "            km = KMeans(n_clusters=i,\n",
    "                        init='random',\n",
    "                        n_init=30,\n",
    "                        max_iter=300,\n",
    "                        random_state=0)\n",
    "            km.fit(matrix)\n",
    "            distortions.append(km.inertia_)\n",
    "        return distortions\n",
    "        \n",
    "    \n",
    "# YOUR CODE HERE\n",
    "except:\n",
    "    raise NotImplementedError()"
   ]
  },
  {
   "cell_type": "code",
   "execution_count": 15,
   "metadata": {
    "deletable": false,
    "editable": false,
    "nbgrader": {
     "checksum": "4108158309acb9d3e176948e32cb37ec",
     "grade": true,
     "grade_id": "cell-a54e77b1073b6ecb",
     "locked": true,
     "points": 5,
     "schema_version": 1,
     "solution": false
    },
    "scrolled": true
   },
   "outputs": [],
   "source": [
    "results = test_cluster_size(X, 3)\n"
   ]
  },
  {
   "cell_type": "code",
   "execution_count": 16,
   "metadata": {},
   "outputs": [
    {
     "name": "stdout",
     "output_type": "stream",
     "text": [
      "[None, None, 248288.79347826054, 242297.75952807048]\n"
     ]
    }
   ],
   "source": [
    "print(results)"
   ]
  },
  {
   "cell_type": "markdown",
   "metadata": {
    "deletable": false,
    "editable": false,
    "nbgrader": {
     "checksum": "0bb8aede18e798fcb23614bea6392aea",
     "grade": false,
     "grade_id": "cell-95034ca00d3a259a",
     "locked": true,
     "schema_version": 1,
     "solution": false
    }
   },
   "source": [
    "### 1.3.2 Finding the Elbow, Try 1\n",
    "\n",
    "Plot the number of clusters (from 2 to 9) vs distortion.  Let `opt_k` be the `k` value which results in the smallest distortion value."
   ]
  },
  {
   "cell_type": "code",
   "execution_count": 17,
   "metadata": {
    "deletable": false,
    "nbgrader": {
     "checksum": "7b0cd1d677dee566e27a235a017e8ddc",
     "grade": false,
     "grade_id": "cell-937aef8f5d832052",
     "locked": false,
     "schema_version": 1,
     "solution": true
    },
    "scrolled": true
   },
   "outputs": [
    {
     "data": {
      "image/png": "[encoded data removed]",
      "text/plain": [
       "<Figure size 432x288 with 1 Axes>"
      ]
     },
     "metadata": {},
     "output_type": "display_data"
    }
   ],
   "source": [
    "# TODO: Plot clusters from 2 to 9.  Hint: you can be more efficient\n",
    "# by writing a reusable plot_clusters function\n",
    "# Worth 5 points\n",
    "try:\n",
    "    def plot_clusters(matrix, cluster_max):\n",
    "        distortions_lst = test_cluster_size(matrix, cluster_max)\n",
    "        plt.plot(range(2,len(distortions_lst)), distortions_lst[2:], marker = 'o')\n",
    "        plt.xlabel('Numer of clusters')\n",
    "        plt.ylabel('Distortions')\n",
    "        plt.show()\n",
    "        opt_k = distortions_lst.index(min(distortions_lst[2:]))\n",
    "        return (opt_k)\n",
    "\n",
    "        \n",
    "        \n",
    "    plot_clusters(X,9)\n",
    "    \n",
    "# YOUR CODE HERE\n",
    "except:\n",
    "    raise NotImplementedError()"
   ]
  },
  {
   "cell_type": "code",
   "execution_count": 18,
   "metadata": {},
   "outputs": [],
   "source": [
    "opt_k = 9"
   ]
  },
  {
   "cell_type": "code",
   "execution_count": 19,
   "metadata": {
    "deletable": false,
    "editable": false,
    "nbgrader": {
     "checksum": "37122075bd336c700d5ee4b143c8be68",
     "grade": true,
     "grade_id": "cell-e7e1baf3599e952f",
     "locked": true,
     "points": 5,
     "schema_version": 1,
     "solution": false
    }
   },
   "outputs": [],
   "source": [
    "if opt_k < 2 or opt_k > 9:\n",
    "    raise ValueError('Bad optimal k')\n",
    "    "
   ]
  },
  {
   "cell_type": "markdown",
   "metadata": {
    "deletable": false,
    "editable": false,
    "nbgrader": {
     "checksum": "d945c65b47f202149efb2e881683471d",
     "grade": false,
     "grade_id": "cell-eb4ac2560773ef44",
     "locked": true,
     "schema_version": 1,
     "solution": false
    }
   },
   "source": [
    "Now, if your data looked like ours, you probably didn't see a 100% convincing elbow on the data (though there might have been something that *could* be interpreted as an elbow).\n",
    "\n",
    "## Step 1.4: Feature Scaling\n",
    "\n",
    "Perhaps we have odd feature scaling along some dimensions, because some words are more frequent than others.  Let’s see whether we should use the raw counts (as above), min-max scaling, Boolean value indicating appears/doesn’t appear, or log-scaled values.\n",
    "\n",
    "### Step 1.4.1. Scaling by min-max\n",
    "\n",
    "Given an input matrix X, we can rescale each feature along its min/max value range, as follows:"
   ]
  },
  {
   "cell_type": "code",
   "execution_count": 20,
   "metadata": {},
   "outputs": [],
   "source": [
    "X_copy = X.copy()\n",
    "\n",
    "min_max_scaler = preprocessing.MinMaxScaler()\n",
    "X_scaled = min_max_scaler.fit_transform(X_copy)\n"
   ]
  },
  {
   "cell_type": "markdown",
   "metadata": {
    "deletable": false,
    "editable": false,
    "nbgrader": {
     "checksum": "f165d429e9709e4685d3f759b47cc997",
     "grade": false,
     "grade_id": "cell-52c3298434acd8b3",
     "locked": true,
     "schema_version": 1,
     "solution": false
    }
   },
   "source": [
    "Now plot the number of clusters (from 2 to 8) vs distortion.  Can you find a clear “elbow” here?  Set `opt_k` to the number of clusters you think represents the elbow."
   ]
  },
  {
   "cell_type": "code",
   "execution_count": 21,
   "metadata": {
    "deletable": false,
    "nbgrader": {
     "checksum": "cc744a3dcd1ba149ebe95a954a3d9517",
     "grade": false,
     "grade_id": "cell-b08de8b523c7a478",
     "locked": false,
     "schema_version": 1,
     "solution": true
    },
    "scrolled": true
   },
   "outputs": [
    {
     "data": {
      "image/png": "[encoded data removed]",
      "text/plain": [
       "<Figure size 432x288 with 1 Axes>"
      ]
     },
     "metadata": {},
     "output_type": "display_data"
    }
   ],
   "source": [
    "# TODO: Use scaled frequencies rather than raw frequencies to evaluate the distortion.\n",
    "# Worth 3 points\n",
    "try:\n",
    "    plot_clusters(X_scaled,8)\n",
    "\n",
    "# YOUR CODE HERE\n",
    "except:\n",
    "    raise NotImplementedError()"
   ]
  },
  {
   "cell_type": "code",
   "execution_count": 95,
   "metadata": {},
   "outputs": [],
   "source": [
    "opt_k = 5"
   ]
  },
  {
   "cell_type": "code",
   "execution_count": 96,
   "metadata": {
    "deletable": false,
    "editable": false,
    "nbgrader": {
     "checksum": "6235a39ee71472b0a17cebb3a4e0021c",
     "grade": true,
     "grade_id": "cell-3d5158434af1f128",
     "locked": true,
     "points": 3,
     "schema_version": 1,
     "solution": false
    }
   },
   "outputs": [],
   "source": [
    "if opt_k <= 1 or opt_k > 8:\n",
    "    raise ValueError('Bad optimal k')\n",
    "    "
   ]
  },
  {
   "cell_type": "markdown",
   "metadata": {
    "deletable": false,
    "editable": false,
    "nbgrader": {
     "checksum": "76d90762a68d12f93f40d7a2d1e4d15b",
     "grade": false,
     "grade_id": "cell-d16d7f7071ea6566",
     "locked": true,
     "schema_version": 1,
     "solution": false
    }
   },
   "source": [
    "### Step 1.4.2. Boolean present/absent\n",
    "\n",
    "As an alternative, try replacing all elements of the matrix with 1 if they are nonzero (make sure to use Pandas functions, no loops). This corresponds to the Boolean case.  Make this a matrix `X_binary`.\n",
    "\n",
    "Again, plot the number of clusters (from 2 to 8) vs distortion.  Find the “elbow” after which the change in distortion tapers off notably.  Set `opt_k` to this.\n"
   ]
  },
  {
   "cell_type": "code",
   "execution_count": 24,
   "metadata": {
    "deletable": false,
    "nbgrader": {
     "checksum": "cfbfbd1f456739089b20aa5660c902f3",
     "grade": false,
     "grade_id": "cell-3abdac2b6043c112",
     "locked": false,
     "schema_version": 1,
     "solution": true
    },
    "scrolled": true
   },
   "outputs": [
    {
     "data": {
      "image/png": "[encoded data removed]",
      "text/plain": [
       "<Figure size 432x288 with 1 Axes>"
      ]
     },
     "metadata": {},
     "output_type": "display_data"
    }
   ],
   "source": [
    "# TODO: Convert to Boolean values depending on whether there are 0s or non-0s.\n",
    "# Worth 5 points\n",
    "try:\n",
    "    X_binary = X.copy()\n",
    "    X_binary[X_binary != 0] = 1\n",
    "    plot_clusters(X_binary, 8)\n",
    "\n",
    "    \n",
    "# YOUR CODE HERE\n",
    "except:\n",
    "    raise NotImplementedError()"
   ]
  },
  {
   "cell_type": "code",
   "execution_count": 25,
   "metadata": {},
   "outputs": [],
   "source": [
    "opt_k = 8"
   ]
  },
  {
   "cell_type": "code",
   "execution_count": 26,
   "metadata": {
    "deletable": false,
    "editable": false,
    "nbgrader": {
     "checksum": "8ac56ecd55617123885b4651f7f47e8f",
     "grade": true,
     "grade_id": "cell-d8f8808ea76f5a0a",
     "locked": true,
     "points": 5,
     "schema_version": 1,
     "solution": false
    }
   },
   "outputs": [],
   "source": [
    "if opt_k < 2 or opt_k >= 9:\n",
    "    raise ValueError('Bad optimal k')\n",
    "    "
   ]
  },
  {
   "cell_type": "markdown",
   "metadata": {
    "deletable": false,
    "editable": false,
    "nbgrader": {
     "checksum": "f6c3eab51d852de70d4a958ae28300d7",
     "grade": false,
     "grade_id": "cell-36739313a31f5d1b",
     "locked": true,
     "schema_version": 1,
     "solution": false
    }
   },
   "source": [
    "### Step 1.4.3. Log scaling\n",
    "\n",
    "As yet another alternative, try adding 1 to all elements in the original matrix and then take the numpy log of all elements in the original matrix. This is the NLP-inspired version, since word frequencies are informative but follow a Zipfian distribution. Call this matrix `X_log`.\n",
    "\n",
    "Again, plot the number of clusters (from 2 to 8) vs distortion.  Find the “elbow” after which the change in distortion tapers off notably.  Set `opt_k` to this."
   ]
  },
  {
   "cell_type": "code",
   "execution_count": 27,
   "metadata": {
    "deletable": false,
    "nbgrader": {
     "checksum": "eda2c780341287a79dff70e5471e65cd",
     "grade": false,
     "grade_id": "cell-857c87f9e81f4ac3",
     "locked": false,
     "schema_version": 1,
     "solution": true
    },
    "scrolled": true
   },
   "outputs": [
    {
     "data": {
      "image/png": "[encoded data removed]",
      "text/plain": [
       "<Figure size 432x288 with 1 Axes>"
      ]
     },
     "metadata": {},
     "output_type": "display_data"
    }
   ],
   "source": [
    "# TODO: Use log frequencies rather than raw frequencies to evaluate the distortion.\n",
    "# Worth 3 points\n",
    "try:\n",
    "    X_log = X.copy()\n",
    "    X_log = X_log + 1\n",
    "    X_log = np.log(X_log)\n",
    "    plot_clusters(X_log,8)\n",
    "    \n",
    "# YOUR CODE HERE\n",
    "except:\n",
    "    raise NotImplementedError()"
   ]
  },
  {
   "cell_type": "code",
   "execution_count": 28,
   "metadata": {},
   "outputs": [],
   "source": [
    "opt_k = 8"
   ]
  },
  {
   "cell_type": "code",
   "execution_count": 29,
   "metadata": {
    "deletable": false,
    "editable": false,
    "nbgrader": {
     "checksum": "bfc2e3e702020d228c31f1053c820a51",
     "grade": true,
     "grade_id": "cell-c82ee95def1e2355",
     "locked": true,
     "points": 3,
     "schema_version": 1,
     "solution": false
    }
   },
   "outputs": [],
   "source": [
    "if opt_k < 2 or opt_k >= 9:\n",
    "    raise ValueError('Bad optimal k')\n",
    "    "
   ]
  },
  {
   "cell_type": "markdown",
   "metadata": {
    "deletable": false,
    "editable": false,
    "nbgrader": {
     "checksum": "95ff52cc6973ed6a3bffeca83f497a45",
     "grade": false,
     "grade_id": "cell-a43100ffb33fcf99",
     "locked": true,
     "schema_version": 1,
     "solution": false
    }
   },
   "source": [
    "## Step 1.5 The Variance Ratio Criterion\n",
    "\n",
    "Recall from lecture that we can compute a different distortion metric called the Variance Ratio Criterion ($VRC$), given by\n",
    "\n",
    "$$ VRC(k) = \\frac{SS_B}{k-1} / \\frac{SS_W}{N - k}$$\n",
    "\n",
    "where $SS_B$ is the sum of squared distance between the cluster centers and the grand mean (calculated per data point), $k$ is the number of clusters, $SS_W$ is the sum of square distance between data points and their assigned cluster centers, and $N$ is the number of data points.\n",
    "\n",
    "\n",
    "### Step 1.5.1 The Grand Mean\n",
    "\n",
    "As a quick check, please compute the grand mean of the original dataset in the cell below. Store it in the variable `grand_mean` so we can test it. Do not use a loop."
   ]
  },
  {
   "cell_type": "code",
   "execution_count": 30,
   "metadata": {
    "deletable": false,
    "nbgrader": {
     "checksum": "1fa1b9525b4ec265e4132b82dfa62aef",
     "grade": false,
     "grade_id": "cell-adf966a91cd00c85",
     "locked": false,
     "schema_version": 1,
     "solution": true
    }
   },
   "outputs": [],
   "source": [
    "# Compute the grand mean here\n",
    "try:\n",
    "    grand_mean = np.mean(X, axis = 0)\n",
    "# YOUR CODE HERE\n",
    "except:\n",
    "    raise NotImplementedError()\n"
   ]
  },
  {
   "cell_type": "code",
   "execution_count": 31,
   "metadata": {
    "deletable": false,
    "editable": false,
    "nbgrader": {
     "checksum": "beef63cf2c987a76314844918a80d1ab",
     "grade": true,
     "grade_id": "cell-1aeab75dd35686a1",
     "locked": true,
     "points": 2,
     "schema_version": 1,
     "solution": false
    }
   },
   "outputs": [
    {
     "data": {
      "text/plain": [
       "array([0.01899593, 0.01085482, 0.96200814, ..., 0.00678426, 0.00949796,\n",
       "       0.00542741])"
      ]
     },
     "execution_count": 31,
     "metadata": {},
     "output_type": "execute_result"
    }
   ],
   "source": [
    "grand_mean\n",
    "    "
   ]
  },
  {
   "cell_type": "markdown",
   "metadata": {
    "deletable": false,
    "editable": false,
    "nbgrader": {
     "checksum": "8d0210ae8a1bfba97b591caf1b56734f",
     "grade": false,
     "grade_id": "cell-5d0bb51f5adfabd3",
     "locked": true,
     "schema_version": 1,
     "solution": false
    }
   },
   "source": [
    "### Step 1.5.2 Implementing VRC\n",
    "\n",
    "Write a function `test_vrc(data, max_num_cluster)` that computes the $VRC$ on clusterings of size 2 up to size `max_num_cluster`. Since we are passing in the data, compute a new grand mean within the function. However, since the grand mean does not depend on the clusters, you should not compute it within a loop. Note that $SS_W$ is the distortion metric that you used in Steps 1.3 and 1.4.\n",
    "\n",
    "**Using the original version of your data, so not the scaled, binary, or log versions**, plot the number of clusters (from 2 to 8) vs $VRC$.  Set `opt_k` to the number of clusters recommended by $VRC$. Note that you are now looking for the first or highest local maximum and not looking for an elbow."
   ]
  },
  {
   "cell_type": "code",
   "execution_count": 32,
   "metadata": {
    "deletable": false,
    "nbgrader": {
     "checksum": "392951efe7274c4aee8fd4cbdda50f30",
     "grade": false,
     "grade_id": "cell-5601d099896e1282",
     "locked": false,
     "schema_version": 1,
     "solution": true
    }
   },
   "outputs": [
    {
     "data": {
      "image/png": "[encoded data removed]",
      "text/plain": [
       "<Figure size 432x288 with 1 Axes>"
      ]
     },
     "metadata": {},
     "output_type": "display_data"
    }
   ],
   "source": [
    "# TODO: plot VRC and find opt_k\n",
    "# Worth 5 points\n",
    "try:\n",
    "    def test_vrc(data, max_num_cluster):\n",
    "        scores = [None,None]\n",
    "        grand_mean = np.array([np.mean(data,axis = 0)])\n",
    "        for i in range(2, max_num_cluster + 1):\n",
    "            km = KMeans(n_clusters=i,\n",
    "                        init='random',\n",
    "                        n_init=30,\n",
    "                        max_iter=300,\n",
    "                        random_state=0)\n",
    "            km_model = km.fit(data)\n",
    "            cls_groups = np.array([km_model.cluster_centers_[x,] for x in km_model.labels_])\n",
    "            SSb = sum(cdist(cls_groups, grand_mean, 'euclidean'))\n",
    "            scores.append(float((SSb/(i-1))/(km_model.inertia_/ (len(data)-1))))\n",
    "\n",
    "        plt.plot(range(2,max_num_cluster +1),scores[2:])\n",
    "        plt.xlabel('# of clusters')\n",
    "        plt.ylabel('Variance Ratio Criterion')\n",
    "        plt.show()\n",
    "        return scores\n",
    "    test_vrc(X,8)\n",
    "    \n",
    "# YOUR CODE HERE\n",
    "except:\n",
    "    raise NotImplementedError()"
   ]
  },
  {
   "cell_type": "code",
   "execution_count": null,
   "metadata": {
    "scrolled": true
   },
   "outputs": [],
   "source": [
    "           "
   ]
  },
  {
   "cell_type": "code",
   "execution_count": 33,
   "metadata": {},
   "outputs": [
    {
     "name": "stdout",
     "output_type": "stream",
     "text": [
      "[[7. 1. 3. ... 0. 0. 0.]\n",
      " [0. 0. 1. ... 0. 0. 0.]\n",
      " [0. 0. 0. ... 0. 0. 0.]\n",
      " ...\n",
      " [0. 0. 2. ... 0. 0. 0.]\n",
      " [0. 0. 0. ... 0. 0. 0.]\n",
      " [0. 0. 4. ... 0. 0. 0.]]\n"
     ]
    }
   ],
   "source": [
    "print(X)"
   ]
  },
  {
   "cell_type": "code",
   "execution_count": 34,
   "metadata": {
    "deletable": false,
    "editable": false,
    "nbgrader": {
     "checksum": "fcf185ec3727adfc740853ffc007d003",
     "grade": true,
     "grade_id": "cell-1d6e3b92b4e93330",
     "locked": true,
     "points": 5,
     "schema_version": 1,
     "solution": false
    }
   },
   "outputs": [],
   "source": [
    "if opt_k < 2 or opt_k >= 9:\n",
    "    raise ValueError('Bad optimal k')\n",
    "    "
   ]
  },
  {
   "cell_type": "markdown",
   "metadata": {
    "deletable": false,
    "editable": false,
    "nbgrader": {
     "checksum": "e3a0e9228c2d72a4c59190ec653bcb99",
     "grade": false,
     "grade_id": "cell-5ced9e729fd7ebc0",
     "locked": true,
     "schema_version": 1,
     "solution": false
    }
   },
   "source": [
    "## Step 1.6: Dimensionality Reduction via PCA\n",
    "\n",
    "Maybe we don’t need every word to be a separate dimension.  Let’s use PCA to find the most important features.  We're going to create a PCA model with 700 components, fit it to our scaled data, and then plot how much each feature (cumulatively) affects the variance, all with this code."
   ]
  },
  {
   "cell_type": "code",
   "execution_count": 35,
   "metadata": {},
   "outputs": [
    {
     "data": {
      "text/plain": [
       "[<matplotlib.lines.Line2D at 0x7fac035015c0>]"
      ]
     },
     "execution_count": 35,
     "metadata": {},
     "output_type": "execute_result"
    },
    {
     "data": {
      "image/png": "[encoded data removed]",
      "text/plain": [
       "<Figure size 432x288 with 1 Axes>"
      ]
     },
     "metadata": {},
     "output_type": "display_data"
    }
   ],
   "source": [
    "# This part is just to free up some memory\n",
    "bbc_df = pd.DataFrame({})\n",
    "\n",
    "X_forPCA = X_scaled.copy()\n",
    "pca_model = PCA(n_components = 700)\n",
    "pca_model.fit(X_forPCA)\n",
    "variance = pca_model.explained_variance_ratio_ #calculate variance ratios                                         \n",
    "\n",
    "var=np.cumsum(np.round(pca_model.explained_variance_ratio_, decimals=3)*100)\n",
    "var #cumulative sum of variance explained with [n] features                                                          \n",
    "\n",
    "plt.ylabel('% Variance Explained')\n",
    "plt.xlabel('# of Features')\n",
    "plt.title('PCA Analysis')\n",
    "plt.style.context('seaborn-whitegrid')\n",
    "plt.plot(var)"
   ]
  },
  {
   "cell_type": "markdown",
   "metadata": {
    "deletable": false,
    "editable": false,
    "nbgrader": {
     "checksum": "0503dc363f80dde284a649ab7367ef20",
     "grade": false,
     "grade_id": "cell-b0e1b7b04539b96b",
     "locked": true,
     "schema_version": 1,
     "solution": false
    }
   },
   "source": [
    "In the cell below, assign a value to `cutoff` (to the nearest multiple of 50) for an appropriate number of PCA dimensions."
   ]
  },
  {
   "cell_type": "code",
   "execution_count": 36,
   "metadata": {},
   "outputs": [],
   "source": [
    "cutoff = 500"
   ]
  },
  {
   "cell_type": "code",
   "execution_count": 37,
   "metadata": {
    "deletable": false,
    "editable": false,
    "nbgrader": {
     "checksum": "1e06c0a70ae862aee0823adeb96edefd",
     "grade": true,
     "grade_id": "cell-d65384a2470edd66",
     "locked": true,
     "points": 5,
     "schema_version": 1,
     "solution": false
    }
   },
   "outputs": [],
   "source": [
    "if cutoff < 100:\n",
    "    raise ValueError('Cutoff value is really small - are you sure?')\n",
    "    "
   ]
  },
  {
   "cell_type": "markdown",
   "metadata": {
    "deletable": false,
    "editable": false,
    "nbgrader": {
     "checksum": "7a4c580f721ff594cd5e390f33e6c1df",
     "grade": false,
     "grade_id": "cell-350381394a7dfa8a",
     "locked": true,
     "schema_version": 1,
     "solution": false
    }
   },
   "source": [
    "Re-run PCA with `n_components` equal to that value, and run `fit_transform` on `X_forPCA` to get an updated feature matrix. Now plot the number of clusters (from 2 to 12) vs $VRC$ using the PCA-transformed data and assign the best `k` to `opt_k`. Remember, you are looking for a local maximum."
   ]
  },
  {
   "cell_type": "code",
   "execution_count": 38,
   "metadata": {
    "deletable": false,
    "nbgrader": {
     "checksum": "fd23e860cbdbcc71c88ad0b57ed8a326",
     "grade": false,
     "grade_id": "cell-e29180d2255b424a",
     "locked": false,
     "schema_version": 1,
     "solution": true
    },
    "scrolled": true
   },
   "outputs": [
    {
     "data": {
      "image/png": "[encoded data removed]",
      "text/plain": [
       "<Figure size 432x288 with 1 Axes>"
      ]
     },
     "metadata": {},
     "output_type": "display_data"
    },
    {
     "data": {
      "image/png": "[encoded data removed]",
      "text/plain": [
       "<Figure size 432x288 with 1 Axes>"
      ]
     },
     "metadata": {},
     "output_type": "display_data"
    }
   ],
   "source": [
    "# TODO: set X_PCA\n",
    "# Worth 5 points\n",
    "try:\n",
    "    \n",
    "    from sklearn.decomposition import PCA\n",
    "    pca = PCA(n_components = cutoff)\n",
    "    X_PCA = pca.fit_transform(X_forPCA)\n",
    "    \n",
    "    pca_distortion = test_vrc(X_PCA,12)\n",
    "    plt.plot(range(2,len(pca_distortion)), pca_distortion[2:], marker = 'o')\n",
    "    plt.ylabel('% Variance Explained')\n",
    "    plt.xlabel('# of Features')\n",
    "    plt.title('PCA Analysis')\n",
    "    \n",
    "\n",
    "# YOUR CODE HERE\n",
    "except:\n",
    "    raise NotImplementedError(X_forPCA)"
   ]
  },
  {
   "cell_type": "code",
   "execution_count": 39,
   "metadata": {},
   "outputs": [],
   "source": [
    "opt_k = 2"
   ]
  },
  {
   "cell_type": "code",
   "execution_count": 40,
   "metadata": {
    "deletable": false,
    "editable": false,
    "nbgrader": {
     "checksum": "f5fb030364af907a012c2c8b00f0a62f",
     "grade": true,
     "grade_id": "cell-0326d99e2d22ddc4",
     "locked": true,
     "points": 5,
     "schema_version": 1,
     "solution": false
    }
   },
   "outputs": [],
   "source": [
    "assert(X_PCA.shape == (737,cutoff))\n",
    "\n",
    "if opt_k < 2 or opt_k >= 9:\n",
    "    raise ValueError('Bad optimal k')\n",
    "    "
   ]
  },
  {
   "cell_type": "markdown",
   "metadata": {
    "deletable": false,
    "editable": false,
    "nbgrader": {
     "checksum": "307c78cc7891b665063ade2815c3a99d",
     "grade": false,
     "grade_id": "cell-053b8a80a485ae9c",
     "locked": true,
     "schema_version": 1,
     "solution": false
    }
   },
   "source": [
    "## Step 1.5: Evaluating Cluster Results\n",
    "\n",
    "Now we are going to compare the true labels with the clusters. Note that the clusters are numbered 0 to $k-1$, but even if $k = 5$, these numbers are likely not in the same order as (athletics, cricket, football, rugby, tennis). So, write a function `evaluate_clusters(data, cls, k)` that does the following:\n",
    "\n",
    "1. Cluster `data` into `k` clusters. `cls` should contain the same number of rows as data, but contain the indices of the true labels in the column `class_label`.\n",
    "1. Determine the index of the true label associated with each cluster.  To do this, you’ll need to compute the index of the most common true label in each cluster. Use the `mode` function that you have already imported.\n",
    "2. Map the output of the clustering to the integers that you found. You could print this mapping for extra insight, but this is not required.\n",
    "2. Count the number of correctly classified articles and return the proportion of correctly classified articles.\n",
    "\n",
    "For extra insight, you could use `nltk.FreqDist` to print the size of each cluster, but this is not required."
   ]
  },
  {
   "cell_type": "code",
   "execution_count": 82,
   "metadata": {
    "deletable": false,
    "nbgrader": {
     "checksum": "9db2627996bba405de2e826688569e71",
     "grade": false,
     "grade_id": "cell-18959992e3fbc3f2",
     "locked": false,
     "schema_version": 1,
     "solution": true
    }
   },
   "outputs": [],
   "source": [
    "# Write your evaluate_clusters(data, cls, k) function here.\n",
    "try:\n",
    "    def evaluate_clusters(data, cls, k):\n",
    "\n",
    "        km = KMeans(n_clusters = k,\n",
    "                    init = 'random',\n",
    "                    n_init = 30,\n",
    "                    max_iter = 300,\n",
    "                    random_state = 0)\n",
    "\n",
    "        cluster_label = km.fit_predict(data)\n",
    "\n",
    "        #loop through all indices in predicted labels\n",
    "        index = 0\n",
    "        #intialize the number of correctly classified labels\n",
    "        correct = 0\n",
    "        lst = []\n",
    "\n",
    "        for k in range(k):\n",
    "            for j in cluster_label:\n",
    "                if j == k :\n",
    "                    lst.append(cls[index])\n",
    "                index +=1\n",
    "\n",
    "            for x in lst:\n",
    "                if x == mode(lst):\n",
    "                    correct +=1\n",
    "            lst = []\n",
    "            index = 0\n",
    "        baseline_accuracy = correct/len(data)\n",
    "\n",
    "        return baseline_accuracy\n",
    "        \n",
    "# YOUR CODE HERE\n",
    "except:\n",
    "    raise NotImplementedError()"
   ]
  },
  {
   "cell_type": "code",
   "execution_count": null,
   "metadata": {},
   "outputs": [],
   "source": []
  },
  {
   "cell_type": "code",
   "execution_count": 83,
   "metadata": {
    "deletable": false,
    "editable": false,
    "nbgrader": {
     "checksum": "ca8db563fca34f465df82fe185f61107",
     "grade": true,
     "grade_id": "cell-2f7f644c81d137d6",
     "locked": true,
     "points": 5,
     "schema_version": 1,
     "solution": false
    }
   },
   "outputs": [
    {
     "name": "stdout",
     "output_type": "stream",
     "text": [
      "0.44776119402985076\n"
     ]
    }
   ],
   "source": [
    "baseline_accuracy = evaluate_clusters(X, document_class, 5)\n",
    "print(baseline_accuracy)\n"
   ]
  },
  {
   "cell_type": "markdown",
   "metadata": {
    "deletable": false,
    "editable": false,
    "nbgrader": {
     "checksum": "9855f313aa935ae9a0c658a04f463d8e",
     "grade": false,
     "grade_id": "cell-0ed09338d07d95b1",
     "locked": true,
     "schema_version": 1,
     "solution": false
    }
   },
   "source": [
    "Among your 4 versions of the dataset and choices of number of clusters between 2 and 8, find the best configuration and report your accuracy value. Store the best version of your data as `opt_data` and the best $k$ as `opt_k`. Rather than posting on Piazza about the \"right answer\", please take this opportunity to explore. The test cases for this part will accept more than the absolute best configuration. You just have to be pretty close."
   ]
  },
  {
   "cell_type": "code",
   "execution_count": 100,
   "metadata": {},
   "outputs": [
    {
     "name": "stdout",
     "output_type": "stream",
     "text": [
      "[0.6404341926729986, 0.47761194029850745, 0.6363636363636364, 0.6227951153324288]\n"
     ]
    }
   ],
   "source": [
    "# Set opt_data and opt_k in this cell.\n",
    "cls = [X,X_scaled,X_binary,X_log]\n",
    "k = [9,6,8,8] \n",
    "baseline_accuracy_lst = []\n",
    "for i in range(len(cls)):\n",
    "    x = evaluate_clusters(cls[i],document_class,k[i])\n",
    "    baseline_accuracy_lst.append(x)\n",
    "\n",
    "print(baseline_accuracy_lst)\n",
    "\n",
    "opt_data = X\n",
    "opt_k = 9"
   ]
  },
  {
   "cell_type": "code",
   "execution_count": 99,
   "metadata": {
    "deletable": false,
    "editable": false,
    "nbgrader": {
     "checksum": "79e04acd20321e02bf15d89ea0fd0759",
     "grade": true,
     "grade_id": "cell-e853dd1fe07b8c1d",
     "locked": true,
     "points": 5,
     "schema_version": 1,
     "solution": false
    }
   },
   "outputs": [
    {
     "name": "stdout",
     "output_type": "stream",
     "text": [
      "0.6404341926729986\n"
     ]
    }
   ],
   "source": [
    "best_accuracy = evaluate_clusters(opt_data, document_class, opt_k)\n",
    "print(best_accuracy)\n"
   ]
  },
  {
   "cell_type": "code",
   "execution_count": null,
   "metadata": {},
   "outputs": [],
   "source": []
  }
 ],
 "metadata": {
  "anaconda-cloud": {},
  "kernelspec": {
   "display_name": "Python 3",
   "language": "python",
   "name": "python3"
  },
  "language_info": {
   "codemirror_mode": {
    "name": "ipython",
    "version": 3
   },
   "file_extension": ".py",
   "mimetype": "text/x-python",
   "name": "python",
   "nbconvert_exporter": "python",
   "pygments_lexer": "ipython3",
   "version": "3.6.3"
  }
 },
 "nbformat": 4,
 "nbformat_minor": 2
}
